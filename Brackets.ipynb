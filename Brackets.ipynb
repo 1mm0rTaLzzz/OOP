{
 "cells": [
  {
   "cell_type": "code",
   "execution_count": 1,
   "id": "ca091640",
   "metadata": {},
   "outputs": [],
   "source": [
    "from dataclasses import dataclass\n",
    "from typing import List, NoReturn, Union\n",
    "\n",
    "\n",
    "@dataclass\n",
    "class Stack:\n",
    "    __stack: List[str]\n",
    "\n",
    "    def __init__(self):\n",
    "        self.__stack = []\n",
    "\n",
    "    def pop(self) -> Union[None, object]:\n",
    "        if len(self.__stack) < 1:\n",
    "            return None\n",
    "        return self.__stack.pop()\n",
    "\n",
    "    def push(self, item) -> NoReturn:\n",
    "        self.__stack.append(item)\n",
    "\n",
    "    def __len__(self) -> int:\n",
    "        return len(self.__stack)\n",
    "\n",
    "\n",
    "\n",
    "def check_brackets(string: str) -> bool:\n",
    "    brackets = {\n",
    "        '(': ')',\n",
    "        '[': ']',\n",
    "        '{': '}',\n",
    "    }\n",
    "    string = \"\".join(filter(lambda x: x in '([{}])', string))\n",
    "    multi_brackets = Stack()\n",
    "\n",
    "    for letter in string:\n",
    "        if letter in \"([{\":\n",
    "            multi_brackets.push(letter)\n",
    "        elif brackets[multi_brackets.pop()] != letter:\n",
    "            return False\n",
    "    return len(multi_brackets) == 0\n"
   ]
  },
  {
   "cell_type": "code",
   "execution_count": 2,
   "id": "d22a9825",
   "metadata": {},
   "outputs": [
    {
     "name": "stdout",
     "output_type": "stream",
     "text": [
      "False\n",
      "True\n",
      "False\n",
      "True\n",
      "True\n",
      "False\n",
      "False\n"
     ]
    }
   ],
   "source": [
    "print(check_brackets('([)()]'))\n",
    "print(check_brackets('{[oop()(2021)]}'))\n",
    "print(check_brackets('({test[3}])'))\n",
    "print(check_brackets('{test([{4}])}'))\n",
    "print(check_brackets('test[]{}5()'))\n",
    "print(check_brackets('{)[test6])}'))\n",
    "print(check_brackets('{([test])}[()]{7)}'))"
   ]
  },
  {
   "cell_type": "code",
   "execution_count": null,
   "id": "51d633f0",
   "metadata": {},
   "outputs": [],
   "source": []
  }
 ],
 "metadata": {
  "kernelspec": {
   "display_name": "Python 3 (ipykernel)",
   "language": "python",
   "name": "python3"
  },
  "language_info": {
   "codemirror_mode": {
    "name": "ipython",
    "version": 3
   },
   "file_extension": ".py",
   "mimetype": "text/x-python",
   "name": "python",
   "nbconvert_exporter": "python",
   "pygments_lexer": "ipython3",
   "version": "3.9.13"
  }
 },
 "nbformat": 4,
 "nbformat_minor": 5
}
