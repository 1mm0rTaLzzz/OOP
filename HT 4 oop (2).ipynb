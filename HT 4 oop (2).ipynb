{
 "cells": [
  {
   "cell_type": "markdown",
   "id": "247943c9",
   "metadata": {},
   "source": [
    "# Задача 1."
   ]
  },
  {
   "cell_type": "code",
   "execution_count": 6,
   "id": "2eaea4d6",
   "metadata": {},
   "outputs": [
    {
     "name": "stdout",
     "output_type": "stream",
     "text": [
      "-1000\n",
      "The next number for the number -1000 is -999.\n",
      "The previous number for the number -1000 is -1001.\n"
     ]
    }
   ],
   "source": [
    "n = int(input())\n",
    "print('The next number for the number ', n, ' is ', n + 1,'.', sep = '')\n",
    "print('The previous number for the number ', n, ' is ', n - 1 ,'.', sep = '')"
   ]
  },
  {
   "cell_type": "markdown",
   "id": "da79c534",
   "metadata": {},
   "source": [
    "# Задача 2"
   ]
  },
  {
   "cell_type": "code",
   "execution_count": 9,
   "id": "7dd4df59",
   "metadata": {},
   "outputs": [
    {
     "name": "stdout",
     "output_type": "stream",
     "text": [
      "32\n",
      "6\n",
      "1\n"
     ]
    }
   ],
   "source": [
    "a = int(input())\n",
    "b = int(input())\n",
    "if a > b:\n",
    "    print(1)\n",
    "elif b > a:\n",
    "    print(2)\n",
    "else:\n",
    "    print(0)"
   ]
  },
  {
   "cell_type": "markdown",
   "id": "42011fdb",
   "metadata": {},
   "source": [
    "# Задача 3"
   ]
  },
  {
   "cell_type": "code",
   "execution_count": 18,
   "id": "15fcef38",
   "metadata": {},
   "outputs": [
    {
     "name": "stdout",
     "output_type": "stream",
     "text": [
      "1480\n",
      "0 40\n"
     ]
    }
   ],
   "source": [
    "n = int(input())\n",
    "print(int(n / 60 % 24), n % 60)"
   ]
  },
  {
   "cell_type": "markdown",
   "id": "c8afaed5",
   "metadata": {},
   "source": [
    "# Задача 4"
   ]
  },
  {
   "cell_type": "code",
   "execution_count": 28,
   "id": "04a4fac4",
   "metadata": {},
   "outputs": [
    {
     "name": "stdout",
     "output_type": "stream",
     "text": [
      "2020\n",
      "YES\n"
     ]
    }
   ],
   "source": [
    "n = int(input())\n",
    "if (n % 4 == 0 and n % 100 != 0) or (n % 400 == 0):\n",
    "    print('YES')\n",
    "else:\n",
    "    print('NO')"
   ]
  },
  {
   "cell_type": "markdown",
   "id": "a66500bc",
   "metadata": {},
   "source": [
    "# Задача 5"
   ]
  },
  {
   "cell_type": "code",
   "execution_count": 29,
   "id": "d3945d3c",
   "metadata": {},
   "outputs": [
    {
     "name": "stdout",
     "output_type": "stream",
     "text": [
      "1\n",
      "2\n",
      "3\n",
      "4\n",
      "5\n",
      "6\n",
      "7\n",
      "8\n",
      "9\n",
      "0\n",
      "45\n"
     ]
    }
   ],
   "source": [
    "s = 0\n",
    "while n != 0:\n",
    "    n = int(input())\n",
    "    s += n\n",
    "print(s)"
   ]
  },
  {
   "cell_type": "markdown",
   "id": "53871176",
   "metadata": {},
   "source": [
    "# Задача 6"
   ]
  },
  {
   "cell_type": "code",
   "execution_count": 12,
   "id": "0219cba2",
   "metadata": {},
   "outputs": [
    {
     "name": "stdout",
     "output_type": "stream",
     "text": [
      "78\n",
      "78 коров\n"
     ]
    }
   ],
   "source": [
    "n = int(input())\n",
    "if n > 9:\n",
    "    t = n % 10\n",
    "else:\n",
    "    t = n\n",
    "if t == 1:\n",
    "    print(n, 'корова')\n",
    "elif t > 1 and t < 5:\n",
    "    print(n, 'коровы')\n",
    "else:\n",
    "    print(n, 'коров')\n",
    "    "
   ]
  },
  {
   "cell_type": "markdown",
   "id": "60076976",
   "metadata": {},
   "source": [
    "# Задача 7"
   ]
  },
  {
   "cell_type": "code",
   "execution_count": 4,
   "id": "1dcc1a5f",
   "metadata": {},
   "outputs": [
    {
     "name": "stdout",
     "output_type": "stream",
     "text": [
      "1 1 21 31 41 1 2 2 2 2\n",
      "4\n"
     ]
    }
   ],
   "source": [
    "digits = list(map(lambda x: int(x), input().split()))\n",
    "\n",
    "myDict = dict()\n",
    "\n",
    "for item in digits:\n",
    "    myDict[item] = digits.count(item)\n",
    "\n",
    "print(max(myDict.values()))"
   ]
  },
  {
   "cell_type": "markdown",
   "id": "6fc3feef",
   "metadata": {},
   "source": [
    "# Задача 8"
   ]
  },
  {
   "cell_type": "code",
   "execution_count": 6,
   "id": "11502dba",
   "metadata": {},
   "outputs": [
    {
     "name": "stdout",
     "output_type": "stream",
     "text": [
      "6\n",
      "4 3 2 1\n",
      "5\n"
     ]
    }
   ],
   "source": [
    "print(list(set(range(1, int(input()))) - set(map(lambda x: int(x), input().split())))[0])"
   ]
  },
  {
   "cell_type": "markdown",
   "id": "734df441",
   "metadata": {},
   "source": [
    "# Доп. задача"
   ]
  },
  {
   "cell_type": "code",
   "execution_count": 20,
   "id": "340aaecb",
   "metadata": {},
   "outputs": [
    {
     "name": "stdout",
     "output_type": "stream",
     "text": [
      "3\n",
      "6\n",
      "10\n",
      "4\n",
      "3\n",
      "NO\n"
     ]
    }
   ],
   "source": [
    "A = int(input())\n",
    "B = int(input())\n",
    "C = int(input())\n",
    "D = int(input())\n",
    "E = int(input())\n",
    "if A * B <= D * E or B * C <= D * E or A * C <= D * E:\n",
    "    print('YES')\n",
    "else:\n",
    "    print('NO')"
   ]
  }
 ],
 "metadata": {
  "kernelspec": {
   "display_name": "Python 3 (ipykernel)",
   "language": "python",
   "name": "python3"
  },
  "language_info": {
   "codemirror_mode": {
    "name": "ipython",
    "version": 3
   },
   "file_extension": ".py",
   "mimetype": "text/x-python",
   "name": "python",
   "nbconvert_exporter": "python",
   "pygments_lexer": "ipython3",
   "version": "3.9.12"
  }
 },
 "nbformat": 4,
 "nbformat_minor": 5
}
